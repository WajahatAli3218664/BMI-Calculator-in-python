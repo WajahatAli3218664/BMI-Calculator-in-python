{
  "nbformat": 4,
  "nbformat_minor": 0,
  "metadata": {
    "colab": {
      "provenance": [],
      "authorship_tag": "ABX9TyMuE5BpvyfmCu1KsQEqyPgH",
      "include_colab_link": true
    },
    "kernelspec": {
      "name": "python3",
      "display_name": "Python 3"
    },
    "language_info": {
      "name": "python"
    }
  },
  "cells": [
    {
      "cell_type": "markdown",
      "metadata": {
        "id": "view-in-github",
        "colab_type": "text"
      },
      "source": [
        "<a href=\"https://colab.research.google.com/github/WajahatAli3218664/BMI-Calculator-in-python/blob/main/bmicalculator.ipynb\" target=\"_parent\"><img src=\"https://colab.research.google.com/assets/colab-badge.svg\" alt=\"Open In Colab\"/></a>"
      ]
    },
    {
      "cell_type": "markdown",
      "source": [
        "# **BMI CALCULATOR IN PYTHON**"
      ],
      "metadata": {
        "id": "WSk2nAIt0FVr"
      }
    },
    {
      "cell_type": "code",
      "source": [
        "!pip install streamlit"
      ],
      "metadata": {
        "colab": {
          "base_uri": "https://localhost:8080/"
        },
        "id": "bXvA27Lz0JxT",
        "outputId": "71233124-34ec-4a79-bb6b-bfa489249f7a"
      },
      "execution_count": 1,
      "outputs": [
        {
          "output_type": "stream",
          "name": "stdout",
          "text": [
            "Collecting streamlit\n",
            "  Downloading streamlit-1.42.1-py2.py3-none-any.whl.metadata (8.9 kB)\n",
            "Requirement already satisfied: altair<6,>=4.0 in /usr/local/lib/python3.11/dist-packages (from streamlit) (5.5.0)\n",
            "Requirement already satisfied: blinker<2,>=1.0.0 in /usr/local/lib/python3.11/dist-packages (from streamlit) (1.9.0)\n",
            "Requirement already satisfied: cachetools<6,>=4.0 in /usr/local/lib/python3.11/dist-packages (from streamlit) (5.5.1)\n",
            "Requirement already satisfied: click<9,>=7.0 in /usr/local/lib/python3.11/dist-packages (from streamlit) (8.1.8)\n",
            "Requirement already satisfied: numpy<3,>=1.23 in /usr/local/lib/python3.11/dist-packages (from streamlit) (1.26.4)\n",
            "Requirement already satisfied: packaging<25,>=20 in /usr/local/lib/python3.11/dist-packages (from streamlit) (24.2)\n",
            "Requirement already satisfied: pandas<3,>=1.4.0 in /usr/local/lib/python3.11/dist-packages (from streamlit) (2.2.2)\n",
            "Requirement already satisfied: pillow<12,>=7.1.0 in /usr/local/lib/python3.11/dist-packages (from streamlit) (11.1.0)\n",
            "Requirement already satisfied: protobuf<6,>=3.20 in /usr/local/lib/python3.11/dist-packages (from streamlit) (4.25.6)\n",
            "Requirement already satisfied: pyarrow>=7.0 in /usr/local/lib/python3.11/dist-packages (from streamlit) (17.0.0)\n",
            "Requirement already satisfied: requests<3,>=2.27 in /usr/local/lib/python3.11/dist-packages (from streamlit) (2.32.3)\n",
            "Requirement already satisfied: rich<14,>=10.14.0 in /usr/local/lib/python3.11/dist-packages (from streamlit) (13.9.4)\n",
            "Requirement already satisfied: tenacity<10,>=8.1.0 in /usr/local/lib/python3.11/dist-packages (from streamlit) (9.0.0)\n",
            "Requirement already satisfied: toml<2,>=0.10.1 in /usr/local/lib/python3.11/dist-packages (from streamlit) (0.10.2)\n",
            "Requirement already satisfied: typing-extensions<5,>=4.4.0 in /usr/local/lib/python3.11/dist-packages (from streamlit) (4.12.2)\n",
            "Collecting watchdog<7,>=2.1.5 (from streamlit)\n",
            "  Downloading watchdog-6.0.0-py3-none-manylinux2014_x86_64.whl.metadata (44 kB)\n",
            "\u001b[2K     \u001b[90m━━━━━━━━━━━━━━━━━━━━━━━━━━━━━━━━━━━━━━━━\u001b[0m \u001b[32m44.3/44.3 kB\u001b[0m \u001b[31m933.2 kB/s\u001b[0m eta \u001b[36m0:00:00\u001b[0m\n",
            "\u001b[?25hRequirement already satisfied: gitpython!=3.1.19,<4,>=3.0.7 in /usr/local/lib/python3.11/dist-packages (from streamlit) (3.1.44)\n",
            "Collecting pydeck<1,>=0.8.0b4 (from streamlit)\n",
            "  Downloading pydeck-0.9.1-py2.py3-none-any.whl.metadata (4.1 kB)\n",
            "Requirement already satisfied: tornado<7,>=6.0.3 in /usr/local/lib/python3.11/dist-packages (from streamlit) (6.4.2)\n",
            "Requirement already satisfied: jinja2 in /usr/local/lib/python3.11/dist-packages (from altair<6,>=4.0->streamlit) (3.1.5)\n",
            "Requirement already satisfied: jsonschema>=3.0 in /usr/local/lib/python3.11/dist-packages (from altair<6,>=4.0->streamlit) (4.23.0)\n",
            "Requirement already satisfied: narwhals>=1.14.2 in /usr/local/lib/python3.11/dist-packages (from altair<6,>=4.0->streamlit) (1.26.0)\n",
            "Requirement already satisfied: gitdb<5,>=4.0.1 in /usr/local/lib/python3.11/dist-packages (from gitpython!=3.1.19,<4,>=3.0.7->streamlit) (4.0.12)\n",
            "Requirement already satisfied: python-dateutil>=2.8.2 in /usr/local/lib/python3.11/dist-packages (from pandas<3,>=1.4.0->streamlit) (2.8.2)\n",
            "Requirement already satisfied: pytz>=2020.1 in /usr/local/lib/python3.11/dist-packages (from pandas<3,>=1.4.0->streamlit) (2025.1)\n",
            "Requirement already satisfied: tzdata>=2022.7 in /usr/local/lib/python3.11/dist-packages (from pandas<3,>=1.4.0->streamlit) (2025.1)\n",
            "Requirement already satisfied: charset-normalizer<4,>=2 in /usr/local/lib/python3.11/dist-packages (from requests<3,>=2.27->streamlit) (3.4.1)\n",
            "Requirement already satisfied: idna<4,>=2.5 in /usr/local/lib/python3.11/dist-packages (from requests<3,>=2.27->streamlit) (3.10)\n",
            "Requirement already satisfied: urllib3<3,>=1.21.1 in /usr/local/lib/python3.11/dist-packages (from requests<3,>=2.27->streamlit) (2.3.0)\n",
            "Requirement already satisfied: certifi>=2017.4.17 in /usr/local/lib/python3.11/dist-packages (from requests<3,>=2.27->streamlit) (2025.1.31)\n",
            "Requirement already satisfied: markdown-it-py>=2.2.0 in /usr/local/lib/python3.11/dist-packages (from rich<14,>=10.14.0->streamlit) (3.0.0)\n",
            "Requirement already satisfied: pygments<3.0.0,>=2.13.0 in /usr/local/lib/python3.11/dist-packages (from rich<14,>=10.14.0->streamlit) (2.18.0)\n",
            "Requirement already satisfied: smmap<6,>=3.0.1 in /usr/local/lib/python3.11/dist-packages (from gitdb<5,>=4.0.1->gitpython!=3.1.19,<4,>=3.0.7->streamlit) (5.0.2)\n",
            "Requirement already satisfied: MarkupSafe>=2.0 in /usr/local/lib/python3.11/dist-packages (from jinja2->altair<6,>=4.0->streamlit) (3.0.2)\n",
            "Requirement already satisfied: attrs>=22.2.0 in /usr/local/lib/python3.11/dist-packages (from jsonschema>=3.0->altair<6,>=4.0->streamlit) (25.1.0)\n",
            "Requirement already satisfied: jsonschema-specifications>=2023.03.6 in /usr/local/lib/python3.11/dist-packages (from jsonschema>=3.0->altair<6,>=4.0->streamlit) (2024.10.1)\n",
            "Requirement already satisfied: referencing>=0.28.4 in /usr/local/lib/python3.11/dist-packages (from jsonschema>=3.0->altair<6,>=4.0->streamlit) (0.36.2)\n",
            "Requirement already satisfied: rpds-py>=0.7.1 in /usr/local/lib/python3.11/dist-packages (from jsonschema>=3.0->altair<6,>=4.0->streamlit) (0.22.3)\n",
            "Requirement already satisfied: mdurl~=0.1 in /usr/local/lib/python3.11/dist-packages (from markdown-it-py>=2.2.0->rich<14,>=10.14.0->streamlit) (0.1.2)\n",
            "Requirement already satisfied: six>=1.5 in /usr/local/lib/python3.11/dist-packages (from python-dateutil>=2.8.2->pandas<3,>=1.4.0->streamlit) (1.17.0)\n",
            "Downloading streamlit-1.42.1-py2.py3-none-any.whl (9.6 MB)\n",
            "\u001b[2K   \u001b[90m━━━━━━━━━━━━━━━━━━━━━━━━━━━━━━━━━━━━━━━━\u001b[0m \u001b[32m9.6/9.6 MB\u001b[0m \u001b[31m25.4 MB/s\u001b[0m eta \u001b[36m0:00:00\u001b[0m\n",
            "\u001b[?25hDownloading pydeck-0.9.1-py2.py3-none-any.whl (6.9 MB)\n",
            "\u001b[2K   \u001b[90m━━━━━━━━━━━━━━━━━━━━━━━━━━━━━━━━━━━━━━━━\u001b[0m \u001b[32m6.9/6.9 MB\u001b[0m \u001b[31m38.2 MB/s\u001b[0m eta \u001b[36m0:00:00\u001b[0m\n",
            "\u001b[?25hDownloading watchdog-6.0.0-py3-none-manylinux2014_x86_64.whl (79 kB)\n",
            "\u001b[2K   \u001b[90m━━━━━━━━━━━━━━━━━━━━━━━━━━━━━━━━━━━━━━━━\u001b[0m \u001b[32m79.1/79.1 kB\u001b[0m \u001b[31m5.6 MB/s\u001b[0m eta \u001b[36m0:00:00\u001b[0m\n",
            "\u001b[?25hInstalling collected packages: watchdog, pydeck, streamlit\n",
            "Successfully installed pydeck-0.9.1 streamlit-1.42.1 watchdog-6.0.0\n"
          ]
        }
      ]
    },
    {
      "cell_type": "code",
      "source": [
        "!pip install pyngrok"
      ],
      "metadata": {
        "colab": {
          "base_uri": "https://localhost:8080/"
        },
        "id": "TCYF1sTN0XCF",
        "outputId": "4d562259-d04a-4c7c-cc7b-cb8c8069d620"
      },
      "execution_count": 2,
      "outputs": [
        {
          "output_type": "stream",
          "name": "stdout",
          "text": [
            "Collecting pyngrok\n",
            "  Downloading pyngrok-7.2.3-py3-none-any.whl.metadata (8.7 kB)\n",
            "Requirement already satisfied: PyYAML>=5.1 in /usr/local/lib/python3.11/dist-packages (from pyngrok) (6.0.2)\n",
            "Downloading pyngrok-7.2.3-py3-none-any.whl (23 kB)\n",
            "Installing collected packages: pyngrok\n",
            "Successfully installed pyngrok-7.2.3\n"
          ]
        }
      ]
    },
    {
      "cell_type": "code",
      "source": [
        "%%writefile app.py\n",
        "import streamlit as st # type: ignore\n",
        "\n",
        "# Configure page\n",
        "st.set_page_config(\n",
        "    page_title=\"BMI Calculator\",\n",
        "    page_icon=\"⚖️\",\n",
        "    layout=\"centered\"\n",
        ")\n",
        "\n",
        "# Custom CSS for styling\n",
        "st.markdown(\"\"\"\n",
        "    <style>\n",
        "    .big-font {\n",
        "        font-size:20px !important;\n",
        "        color: #2e8b57;\n",
        "    }\n",
        "    .result-box {\n",
        "        border: 2px solid #4CAF50;\n",
        "        border-radius: 5px;\n",
        "        padding: 20px;\n",
        "        margin: 10px 0;\n",
        "    }\n",
        "    </style>\n",
        "    \"\"\", unsafe_allow_html=True)\n",
        "\n",
        "# App header\n",
        "st.title(\"🚀 Smart BMI Calculator\")\n",
        "st.markdown(\"---\")\n",
        "\n",
        "# Weight units selection\n",
        "unit = st.radio(\"Select Measurement System:\",\n",
        "               [\"Metric (kg & meters)\", \"Imperial (lbs & inches)\"],\n",
        "               horizontal=True)\n",
        "\n",
        "# Input fields\n",
        "with st.form(\"bmi_form\"):\n",
        "    if \"Metric\" in unit:\n",
        "        weight = st.number_input(\"Enter Weight (kg)\", min_value=1.0, max_value=300.0)\n",
        "        height = st.number_input(\"Enter Height (meters)\", min_value=0.5, max_value=3.0)\n",
        "    else:\n",
        "        weight = st.number_input(\"Enter Weight (lbs)\", min_value=1.0, max_value=660.0)\n",
        "        col1, col2 = st.columns(2)\n",
        "        with col1:\n",
        "            feet = st.number_input(\"Feet\", min_value=1, max_value=8)\n",
        "        with col2:\n",
        "            inches = st.number_input(\"Inches\", min_value=0, max_value=11)\n",
        "        height = feet * 12 + inches  # Convert to total inches\n",
        "\n",
        "    submitted = st.form_submit_button(\"Calculate BMI\")\n",
        "\n",
        "# BMI Calculation\n",
        "if submitted:\n",
        "    try:\n",
        "        if \"Metric\" in unit:\n",
        "            bmi = weight / (height ** 2)\n",
        "        else:\n",
        "            bmi = (weight * 703) / (height ** 2)\n",
        "\n",
        "        bmi_category = \"\"\n",
        "        color = \"\"\n",
        "        if bmi < 18.5:\n",
        "            bmi_category = \"Underweight 🏋️\"\n",
        "            color = \"#3498db\"\n",
        "        elif 18.5 <= bmi < 25:\n",
        "            bmi_category = \"Normal Weight ✅\"\n",
        "            color = \"#2ecc71\"\n",
        "        elif 25 <= bmi < 30:\n",
        "            bmi_category = \"Overweight ⚠️\"\n",
        "            color = \"#f1c40f\"\n",
        "        else:\n",
        "            bmi_category = \"Obese ❌\"\n",
        "            color = \"#e74c3c\"\n",
        "\n",
        "        # Display results\n",
        "        st.markdown(\"---\")\n",
        "        st.markdown(f\"<div class='result-box' style='border-color: {color};'>\"\n",
        "                    f\"<h3 style='color: {color};'>Your BMI: {bmi:.1f}</h3>\"\n",
        "                    f\"<p class='big-font'>{bmi_category}</p></div>\",\n",
        "                    unsafe_allow_html=True)\n",
        "\n",
        "    except ZeroDivisionError:\n",
        "        st.error(\"Please enter valid height greater than zero\")\n",
        "\n",
        "# BMI Classification Chart\n",
        "with st.expander(\"📊 BMI Classification Chart\"):\n",
        "    st.markdown(\"\"\"\n",
        "    | BMI Range       | Category        |\n",
        "    |----------------|-----------------|\n",
        "    | Below 18.5      | Underweight     |\n",
        "    | 18.5 - 24.9     | Normal Weight   |\n",
        "    | 25.0 - 29.9     | Overweight      |\n",
        "    | 30.0 and above  | Obese           |\n",
        "    \"\"\")\n",
        "\n",
        "# Health Tips\n",
        "st.markdown(\"---\")\n",
        "st.subheader(\"💡 Health Tips\")\n",
        "st.write(\"\"\"\n",
        "- Maintain balanced diet\n",
        "- Exercise regularly (150 mins/week)\n",
        "- Get enough sleep (7-9 hours)\n",
        "- Stay hydrated (2-3 liters/day)\n",
        "- Monitor your weight regularly\n",
        "\"\"\")\n",
        "\n",
        "# Disclaimer\n",
        "st.markdown(\"---\")\n",
        "st.caption(\"ℹ️ Note: BMI is a simple screening tool and does not account for muscle mass or body composition.\")\n"
      ],
      "metadata": {
        "colab": {
          "base_uri": "https://localhost:8080/"
        },
        "id": "PwKHzYN10xEf",
        "outputId": "eb9146ab-bab1-493a-cbb0-58b2e10d16ed"
      },
      "execution_count": 3,
      "outputs": [
        {
          "output_type": "stream",
          "name": "stdout",
          "text": [
            "Writing app.py\n"
          ]
        }
      ]
    },
    {
      "cell_type": "code",
      "source": [
        "from pyngrok import ngrok\n",
        "\n",
        "# Start Streamlit server\n",
        "!streamlit run app.py &\n",
        "\n",
        "# Open public URL using ngrok\n",
        "public_url = ngrok.connect(port='8501')\n",
        "print(f\"Streamlit App is Live: {public_url}\")\n"
      ],
      "metadata": {
        "colab": {
          "base_uri": "https://localhost:8080/"
        },
        "id": "k5w5ZjWN1BW3",
        "outputId": "dc15a730-62f5-4687-9f27-622155b6ccfc"
      },
      "execution_count": null,
      "outputs": [
        {
          "output_type": "stream",
          "name": "stdout",
          "text": [
            "\n",
            "Collecting usage statistics. To deactivate, set browser.gatherUsageStats to false.\n",
            "\u001b[0m\n",
            "\u001b[0m\n",
            "\u001b[34m\u001b[1m  You can now view your Streamlit app in your browser.\u001b[0m\n",
            "\u001b[0m\n",
            "\u001b[34m  Local URL: \u001b[0m\u001b[1mhttp://localhost:8501\u001b[0m\n",
            "\u001b[34m  Network URL: \u001b[0m\u001b[1mhttp://172.28.0.12:8501\u001b[0m\n",
            "\u001b[34m  External URL: \u001b[0m\u001b[1mhttp://34.106.55.251:8501\u001b[0m\n",
            "\u001b[0m\n"
          ]
        }
      ]
    }
  ]
}